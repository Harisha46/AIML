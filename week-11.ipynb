{
 "cells": [
  {
   "cell_type": "code",
   "execution_count": 1,
   "id": "a16e5d14-185b-482c-bcb5-5cbb472eaf3d",
   "metadata": {},
   "outputs": [
    {
     "name": "stdout",
     "output_type": "stream",
     "text": [
      "this a sample text contains stop words punctuation marks.\n"
     ]
    }
   ],
   "source": [
    "import re\n",
    "stop_words=[\"the\",\"is\",\"and\",\"of\",\"to\",\"was\",\"on\"]\n",
    "\n",
    "punctuation_regex=re.compile(r\"[,.!?]\")\n",
    "\n",
    "def drop_stop_words_and_punctuation(text):\n",
    "    words=text.split()\n",
    "    filtered_words=[]\n",
    "    for word in words:\n",
    "        if word not in stop_words and not punctuation_regex.match(word):\n",
    "            filtered_words.append(word)\n",
    "    return \" \".join(filtered_words)\n",
    "\n",
    "text=\"this is a sample text contains stop words and punctuation marks.\"\n",
    "filtered_text=drop_stop_words_and_punctuation(text)\n",
    "print(filtered_text)\n",
    "    "
   ]
  },
  {
   "cell_type": "code",
   "execution_count": 4,
   "id": "ea8df2dc-ca6f-47d4-a22a-91b5bfeae064",
   "metadata": {},
   "outputs": [
    {
     "name": "stdout",
     "output_type": "stream",
     "text": [
      "am studying 5th semister cse cse department very good\n"
     ]
    }
   ],
   "source": [
    "print(filtered_text)"
   ]
  },
  {
   "cell_type": "code",
   "execution_count": 10,
   "id": "bab08aa0-0303-44e6-a76b-3d949e3db4d0",
   "metadata": {},
   "outputs": [
    {
     "name": "stdout",
     "output_type": "stream",
     "text": [
      "am studying 5th semister cse cse department very good\n"
     ]
    }
   ],
   "source": [
    "import re\n",
    "stop_words=[\"I\",\"in\",\"the\",\"is\",\"and\",\"of\",\"to\",\"was\",\"on\"]\n",
    "\n",
    "punctuation_regex=re.compile(r\"[, ! ? . ]\")\n",
    "\n",
    "def drop_stop_words_and_punctuation(text):\n",
    "    words=text.split()\n",
    "    filtered_words=[]\n",
    "    for word in words:\n",
    "        if word not in stop_words and not punctuation_regex.match(word):\n",
    "            filtered_words.append(word)\n",
    "    return \" \".join(filtered_words)\n",
    "\n",
    "text=\"I am studying in , 5th semister cse the cse department is very good ! . \"\n",
    "filtered_text=drop_stop_words_and_punctuation(text)\n",
    "print(filtered_text)"
   ]
  },
  {
   "cell_type": "code",
   "execution_count": 11,
   "id": "446f3d1f-18c2-409f-a0f9-a11e6ddd5b3b",
   "metadata": {},
   "outputs": [],
   "source": []
  },
  {
   "cell_type": "code",
   "execution_count": null,
   "id": "c56a8ea4-3705-4601-88df-1ee94bdf668e",
   "metadata": {},
   "outputs": [],
   "source": []
  }
 ],
 "metadata": {
  "kernelspec": {
   "display_name": "Python 3 (ipykernel)",
   "language": "python",
   "name": "python3"
  },
  "language_info": {
   "codemirror_mode": {
    "name": "ipython",
    "version": 3
   },
   "file_extension": ".py",
   "mimetype": "text/x-python",
   "name": "python",
   "nbconvert_exporter": "python",
   "pygments_lexer": "ipython3",
   "version": "3.13.7"
  }
 },
 "nbformat": 4,
 "nbformat_minor": 5
}
